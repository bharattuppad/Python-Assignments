{
 "cells": [
  {
   "cell_type": "code",
   "execution_count": 1,
   "id": "c53785fd",
   "metadata": {},
   "outputs": [],
   "source": [
    "import pymysql as sql"
   ]
  },
  {
   "cell_type": "markdown",
   "id": "1b8d9aeb",
   "metadata": {},
   "source": [
    "QSN\n",
    "Create a todo table through MySQL with the following attributes: \n",
    "\n",
    "id int(11) \n",
    "title varchar(255)\n",
    "body text\n",
    "status tinyint\n",
    "user_id int(11) -> id of users from table we created in class. \n",
    "Insert and Show the list in python. "
   ]
  },
  {
   "cell_type": "code",
   "execution_count": 3,
   "id": "2c65b1b1",
   "metadata": {},
   "outputs": [],
   "source": [
    "def get_conn():\n",
    "    conn=sql.connect(host='localhost', port=8111, user='root', database='jupyter')\n",
    "    return conn"
   ]
  },
  {
   "cell_type": "code",
   "execution_count": 5,
   "id": "6e28759d",
   "metadata": {},
   "outputs": [],
   "source": [
    "con=get_conn()\n",
    "cur=con.cursor()\n",
    "query='create table todo(id int, title varchar(255), body text, status tinyint)'\n",
    "cur.execute(query)\n",
    "con.commit()\n",
    "con.close()"
   ]
  },
  {
   "cell_type": "code",
   "execution_count": 6,
   "id": "8be21518",
   "metadata": {},
   "outputs": [],
   "source": [
    "def add_todo():\n",
    "    con=get_conn()\n",
    "    cur=con.cursor()\n",
    "    a=input('Enter the ID number: ')\n",
    "    b=input('Enter the TITLE    : ')\n",
    "    c=input('Enter the BODY     : ')\n",
    "    d=input('Enter the STATUS   : ')\n",
    "    query='insert into todo values(%s, %s, %s, %s)'\n",
    "    cur.execute(query,(a,b,c,d))\n",
    "    print('----------------------------')\n",
    "    print('INFO ADDED SUCCESSFULLY')\n",
    "    print('----------------------------')\n",
    "    con.commit()\n",
    "    con.close()"
   ]
  },
  {
   "cell_type": "code",
   "execution_count": 7,
   "id": "f5ad8d3f",
   "metadata": {},
   "outputs": [
    {
     "name": "stdout",
     "output_type": "stream",
     "text": [
      "Enter the ID number: 1\n",
      "Enter the TITLE    : cleaning\n",
      "Enter the BODY     : floor,roof,kitchen\n",
      "Enter the STATUS   : 5\n",
      "----------------------------\n",
      "INFO ADDED SUCCESSFULLY\n",
      "----------------------------\n"
     ]
    }
   ],
   "source": [
    "add_todo()"
   ]
  },
  {
   "cell_type": "code",
   "execution_count": 8,
   "id": "91d0bd89",
   "metadata": {},
   "outputs": [],
   "source": [
    "def show_todo():\n",
    "    con=get_conn()\n",
    "    cur=con.cursor()\n",
    "    query='select*from todo'\n",
    "    cur.execute(query)\n",
    "    a=cur.fetchall()\n",
    "    con.commit()\n",
    "    con.close()\n",
    "    return a"
   ]
  },
  {
   "cell_type": "code",
   "execution_count": 9,
   "id": "07284457",
   "metadata": {},
   "outputs": [
    {
     "data": {
      "text/plain": [
       "((1, 'cleaning', 'floor,roof,kitchen', 5),)"
      ]
     },
     "execution_count": 9,
     "metadata": {},
     "output_type": "execute_result"
    }
   ],
   "source": [
    "show_todo()"
   ]
  }
 ],
 "metadata": {
  "kernelspec": {
   "display_name": "Python 3 (ipykernel)",
   "language": "python",
   "name": "python3"
  },
  "language_info": {
   "codemirror_mode": {
    "name": "ipython",
    "version": 3
   },
   "file_extension": ".py",
   "mimetype": "text/x-python",
   "name": "python",
   "nbconvert_exporter": "python",
   "pygments_lexer": "ipython3",
   "version": "3.10.4"
  }
 },
 "nbformat": 4,
 "nbformat_minor": 5
}
