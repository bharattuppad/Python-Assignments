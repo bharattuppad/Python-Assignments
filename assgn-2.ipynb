{
 "cells": [
  {
   "cell_type": "code",
   "execution_count": 1,
   "id": "d22f43a3",
   "metadata": {},
   "outputs": [],
   "source": [
    "import pymysql as sql"
   ]
  },
  {
   "cell_type": "markdown",
   "id": "b051eae8",
   "metadata": {},
   "source": [
    "QSN\n",
    "Create a student management application.\n",
    "\n",
    "Create a student table with columns -  id, name and marks\n",
    "\n",
    "Create python functions to -\n",
    "\n",
    "1)show students\n",
    "\n",
    "2) update student marks with id\n",
    "\n",
    "3) Insert new student\n",
    "\n",
    "4) Delete student"
   ]
  },
  {
   "cell_type": "code",
   "execution_count": 2,
   "id": "f1ad9351",
   "metadata": {},
   "outputs": [],
   "source": [
    "def get_conn():\n",
    "    conn=sql.connect(host='localhost',port=8111,user='root',database='jupyter')\n",
    "    return conn"
   ]
  },
  {
   "cell_type": "code",
   "execution_count": 3,
   "id": "b5321ee5",
   "metadata": {},
   "outputs": [],
   "source": [
    "con=get_conn()\n",
    "cur=con.cursor()\n",
    "query='create table student(id int, name varchar(20), marks int)'\n",
    "cur.execute(query)\n",
    "con.commit()\n",
    "con.close()"
   ]
  },
  {
   "cell_type": "code",
   "execution_count": 20,
   "id": "6c5123cd",
   "metadata": {},
   "outputs": [],
   "source": [
    "def show_stud():\n",
    "    con=get_conn()\n",
    "    cur=con.cursor()\n",
    "    print('Following are the details of students')\n",
    "    print('----------------------------------------')\n",
    "    query='select*from student'\n",
    "    cur.execute(query)\n",
    "    a=cur.fetchall()\n",
    "    con.commit()\n",
    "    con.close()\n",
    "    return a"
   ]
  },
  {
   "cell_type": "code",
   "execution_count": 9,
   "id": "06e4d1f6",
   "metadata": {},
   "outputs": [],
   "source": [
    "def upd_stud():\n",
    "    con=get_conn()\n",
    "    cur=con.cursor()\n",
    "    b=input('enter the ID of student      : ')\n",
    "    c=input('enter the MARKS to be updated: ')\n",
    "    query='update student set marks=%s where id=%s'\n",
    "    cur.execute(query,(c,b))\n",
    "    print('----------------------------------------')\n",
    "    print('Marks updated SUCCESSFULLY')\n",
    "    print('----------------------------------------')\n",
    "    con.commit()\n",
    "    con.close()"
   ]
  },
  {
   "cell_type": "code",
   "execution_count": 12,
   "id": "16d60eb4",
   "metadata": {},
   "outputs": [],
   "source": [
    "def add_stud():\n",
    "    con=get_conn()\n",
    "    cur=con.cursor()\n",
    "    d=input('Enter the ID of student   : ')\n",
    "    e=input('Enter the NAME of student : ')\n",
    "    f=input('Enter the MARKS of student: ')\n",
    "    query='insert into student values(%s, %s, %s)'\n",
    "    cur.execute(query,(d,e,f))\n",
    "    print('----------------------------------------')\n",
    "    print('Student ADDED SUCCESSFULLY')\n",
    "    con.commit()\n",
    "    con.close()"
   ]
  },
  {
   "cell_type": "code",
   "execution_count": 10,
   "id": "dea0f9e2",
   "metadata": {},
   "outputs": [],
   "source": [
    "def del_stud():\n",
    "    con=get_conn()\n",
    "    cur=con.cursor()\n",
    "    g=input('Enter the ID of student to delete the info: ')\n",
    "    query='delete from student where id=%s'\n",
    "    cur.execute(query,g)\n",
    "    print('----------------------------------------')\n",
    "    print('student info DELETED SUCCESSFULLY')\n",
    "    print('----------------------------------------')\n",
    "    con.commit()\n",
    "    con.close()"
   ]
  },
  {
   "cell_type": "markdown",
   "id": "0d2955a9",
   "metadata": {},
   "source": [
    "INPUT and OUTPUT based on above functions"
   ]
  },
  {
   "cell_type": "code",
   "execution_count": 13,
   "id": "6235d543",
   "metadata": {},
   "outputs": [
    {
     "name": "stdout",
     "output_type": "stream",
     "text": [
      "Enter the ID of student   : 1\n",
      "Enter the NAME of student : Bharat\n",
      "Enter the MARKS of student: 100\n",
      "----------------------------------------\n",
      "Student ADDED SUCCESSFULLY\n"
     ]
    }
   ],
   "source": [
    "add_stud()"
   ]
  },
  {
   "cell_type": "code",
   "execution_count": 14,
   "id": "3cae6a7f",
   "metadata": {},
   "outputs": [
    {
     "name": "stdout",
     "output_type": "stream",
     "text": [
      "Enter the ID of student   : 2\n",
      "Enter the NAME of student : Nikhil\n",
      "Enter the MARKS of student: 110\n",
      "----------------------------------------\n",
      "Student ADDED SUCCESSFULLY\n"
     ]
    }
   ],
   "source": [
    "add_stud()"
   ]
  },
  {
   "cell_type": "code",
   "execution_count": 15,
   "id": "e3973fca",
   "metadata": {},
   "outputs": [
    {
     "name": "stdout",
     "output_type": "stream",
     "text": [
      "Enter the ID of student   : 3\n",
      "Enter the NAME of student : Vijay\n",
      "Enter the MARKS of student: 125\n",
      "----------------------------------------\n",
      "Student ADDED SUCCESSFULLY\n"
     ]
    }
   ],
   "source": [
    "add_stud()"
   ]
  },
  {
   "cell_type": "code",
   "execution_count": 16,
   "id": "91190268",
   "metadata": {},
   "outputs": [
    {
     "name": "stdout",
     "output_type": "stream",
     "text": [
      "enter the ID of student      : 1\n",
      "enter the MARKS to be updated: 130\n",
      "----------------------------------------\n",
      "Marks updated SUCCESSFULLY\n",
      "----------------------------------------\n"
     ]
    }
   ],
   "source": [
    "upd_stud()"
   ]
  },
  {
   "cell_type": "code",
   "execution_count": 17,
   "id": "e855be60",
   "metadata": {},
   "outputs": [
    {
     "name": "stdout",
     "output_type": "stream",
     "text": [
      "Following are the details of students\n",
      "----------------------------------------\n",
      "----------------------------------------\n"
     ]
    },
    {
     "data": {
      "text/plain": [
       "((1, 'Bharat', 130), (2, 'Nikhil', 110), (3, 'Vijay', 125))"
      ]
     },
     "execution_count": 17,
     "metadata": {},
     "output_type": "execute_result"
    }
   ],
   "source": [
    "show_stud()"
   ]
  },
  {
   "cell_type": "code",
   "execution_count": 18,
   "id": "9d18b134",
   "metadata": {},
   "outputs": [
    {
     "name": "stdout",
     "output_type": "stream",
     "text": [
      "Enter the ID of student to delete the info: 3\n",
      "----------------------------------------\n",
      "student info DELETED SUCCESSFULLY\n",
      "----------------------------------------\n"
     ]
    }
   ],
   "source": [
    "del_stud()"
   ]
  },
  {
   "cell_type": "code",
   "execution_count": 19,
   "id": "dbd8ba1e",
   "metadata": {},
   "outputs": [
    {
     "name": "stdout",
     "output_type": "stream",
     "text": [
      "Following are the details of students\n",
      "----------------------------------------\n",
      "----------------------------------------\n"
     ]
    },
    {
     "data": {
      "text/plain": [
       "((1, 'Bharat', 130), (2, 'Nikhil', 110))"
      ]
     },
     "execution_count": 19,
     "metadata": {},
     "output_type": "execute_result"
    }
   ],
   "source": [
    "show_stud()"
   ]
  }
 ],
 "metadata": {
  "kernelspec": {
   "display_name": "Python 3 (ipykernel)",
   "language": "python",
   "name": "python3"
  },
  "language_info": {
   "codemirror_mode": {
    "name": "ipython",
    "version": 3
   },
   "file_extension": ".py",
   "mimetype": "text/x-python",
   "name": "python",
   "nbconvert_exporter": "python",
   "pygments_lexer": "ipython3",
   "version": "3.10.4"
  }
 },
 "nbformat": 4,
 "nbformat_minor": 5
}
