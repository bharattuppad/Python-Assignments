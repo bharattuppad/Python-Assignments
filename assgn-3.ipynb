{
 "cells": [
  {
   "cell_type": "markdown",
   "id": "635639a7",
   "metadata": {},
   "source": [
    "QSN:\n",
    "Create a country table with id, name and rank\n",
    "\n",
    "Write a program to search the country from its name."
   ]
  },
  {
   "cell_type": "code",
   "execution_count": 1,
   "id": "e84dd4a5",
   "metadata": {},
   "outputs": [],
   "source": [
    "import pymysql as sql"
   ]
  },
  {
   "cell_type": "code",
   "execution_count": 2,
   "id": "18bda7b5",
   "metadata": {},
   "outputs": [],
   "source": [
    "def get_conn():\n",
    "    conn=sql.connect(host='localhost', port=8111, user='root', database='jupyter')\n",
    "    return conn"
   ]
  },
  {
   "cell_type": "code",
   "execution_count": 4,
   "id": "efafca48",
   "metadata": {},
   "outputs": [],
   "source": [
    "con=get_conn()\n",
    "cur=con.cursor()\n",
    "query='create table country(id int, name varchar(20), rank int)'\n",
    "cur.execute(query)\n",
    "con.commit()\n",
    "con.close()"
   ]
  },
  {
   "cell_type": "code",
   "execution_count": 5,
   "id": "a5a2a29a",
   "metadata": {},
   "outputs": [],
   "source": [
    "def add_count():\n",
    "    con=get_conn()\n",
    "    cur=con.cursor()\n",
    "    a=input('Enter the ID of the COUNTRY  : ')\n",
    "    b=input('Enter the NAME of the COUNTRY: ')\n",
    "    c=input('Enter the RANK of the COUNTRY: ')\n",
    "    query='insert into country values(%s, %s, %s)'\n",
    "    cur.execute(query,(a,b,c))\n",
    "    print('-------------------------------')\n",
    "    print('COUNTRY ADDED SUCCESSFULLY')\n",
    "    print('-------------------------------')\n",
    "    con.commit()\n",
    "    con.close()"
   ]
  },
  {
   "cell_type": "code",
   "execution_count": 10,
   "id": "73d47ad3",
   "metadata": {},
   "outputs": [],
   "source": [
    "def name_count():\n",
    "    con=get_conn()\n",
    "    cur=con.cursor()\n",
    "    d=input('Enter the NAME of the COUNTRY that you want to get the details of: ')\n",
    "    query='select*from country where name= %s'\n",
    "    cur.execute(query,d)\n",
    "    e=cur.fetchall()\n",
    "    con.commit()\n",
    "    con.close()\n",
    "    return e"
   ]
  },
  {
   "cell_type": "code",
   "execution_count": 6,
   "id": "f2c3ce24",
   "metadata": {},
   "outputs": [
    {
     "name": "stdout",
     "output_type": "stream",
     "text": [
      "Enter the ID of the COUNTRY  : 1\n",
      "Enter the NAME of the COUNTRY: INDIA\n",
      "Enter the RANK of the COUNTRY: 5\n",
      "-------------------------------\n",
      "COUNTRY ADDED SUCCESSFULLY\n",
      "-------------------------------\n"
     ]
    }
   ],
   "source": [
    "add_count()"
   ]
  },
  {
   "cell_type": "code",
   "execution_count": 8,
   "id": "15683498",
   "metadata": {},
   "outputs": [
    {
     "name": "stdout",
     "output_type": "stream",
     "text": [
      "Enter the ID of the COUNTRY  : 2\n",
      "Enter the NAME of the COUNTRY: USA\n",
      "Enter the RANK of the COUNTRY: 1\n",
      "-------------------------------\n",
      "COUNTRY ADDED SUCCESSFULLY\n",
      "-------------------------------\n"
     ]
    }
   ],
   "source": [
    "add_count()"
   ]
  },
  {
   "cell_type": "code",
   "execution_count": 11,
   "id": "da0db49e",
   "metadata": {},
   "outputs": [
    {
     "name": "stdout",
     "output_type": "stream",
     "text": [
      "Enter the NAME of the COUNTRY that you want to get the details of: india\n"
     ]
    },
    {
     "data": {
      "text/plain": [
       "((1, 'INDIA', 5),)"
      ]
     },
     "execution_count": 11,
     "metadata": {},
     "output_type": "execute_result"
    }
   ],
   "source": [
    "name_count()"
   ]
  },
  {
   "cell_type": "code",
   "execution_count": 12,
   "id": "80eb2a3c",
   "metadata": {},
   "outputs": [
    {
     "name": "stdout",
     "output_type": "stream",
     "text": [
      "Enter the NAME of the COUNTRY that you want to get the details of: usa\n"
     ]
    },
    {
     "data": {
      "text/plain": [
       "((2, 'USA', 1),)"
      ]
     },
     "execution_count": 12,
     "metadata": {},
     "output_type": "execute_result"
    }
   ],
   "source": [
    "name_count()"
   ]
  }
 ],
 "metadata": {
  "kernelspec": {
   "display_name": "Python 3 (ipykernel)",
   "language": "python",
   "name": "python3"
  },
  "language_info": {
   "codemirror_mode": {
    "name": "ipython",
    "version": 3
   },
   "file_extension": ".py",
   "mimetype": "text/x-python",
   "name": "python",
   "nbconvert_exporter": "python",
   "pygments_lexer": "ipython3",
   "version": "3.10.4"
  }
 },
 "nbformat": 4,
 "nbformat_minor": 5
}
