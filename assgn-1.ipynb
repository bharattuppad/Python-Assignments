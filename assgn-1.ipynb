{
 "cells": [
  {
   "cell_type": "code",
   "execution_count": 5,
   "id": "e4ac3cf5",
   "metadata": {},
   "outputs": [
    {
     "name": "stdout",
     "output_type": "stream",
     "text": [
      "Requirement already satisfied: pymysql in e:\\users\\bharat\\appdata\\local\\programs\\python\\python310\\lib\\site-packages (1.0.2)\n",
      "Note: you may need to restart the kernel to use updated packages.\n"
     ]
    },
    {
     "name": "stderr",
     "output_type": "stream",
     "text": [
      "WARNING: You are using pip version 22.0.4; however, version 22.1.2 is available.\n",
      "You should consider upgrading via the 'E:\\Users\\Bharat\\AppData\\Local\\Programs\\Python\\Python310\\python.exe -m pip install --upgrade pip' command.\n"
     ]
    }
   ],
   "source": [
    "pip install pymysql"
   ]
  },
  {
   "cell_type": "code",
   "execution_count": 2,
   "id": "d56587aa",
   "metadata": {},
   "outputs": [],
   "source": [
    "import pymysql as sql"
   ]
  },
  {
   "cell_type": "markdown",
   "id": "4640b4d5",
   "metadata": {},
   "source": [
    "#QSN\n",
    "Create an Employee management database app with functions like\n",
    "\n",
    "1) ADD EMPLOYEE (ID, NAME, DEPARTMENT, SALARY)\n",
    "\n",
    "2)  SHOW EMPLOYEES\n",
    "\n",
    "3) UPDATE EMPLOYEE SALARY\n",
    "\n",
    "4) UPDATE EMPLOYEE DEPARTMENT\n",
    "\n",
    "5) DELETE EMPLOYEE\n"
   ]
  },
  {
   "cell_type": "code",
   "execution_count": 1,
   "id": "dd96c0fb",
   "metadata": {},
   "outputs": [],
   "source": [
    "def get_conn():\n",
    "    conn=sql.connect(host='localhost',port=8111,user='root',database='jupyter')\n",
    "    return conn"
   ]
  },
  {
   "cell_type": "code",
   "execution_count": 3,
   "id": "0af71e7e",
   "metadata": {},
   "outputs": [],
   "source": [
    "def add_emp():\n",
    "    con=get_conn()\n",
    "    cur=con.cursor()\n",
    "    print('This function is used to add employees details in the database')\n",
    "    print('Enter the details in the following: ')\n",
    "    a=input('ID: ')\n",
    "    b=input('NAME: ')\n",
    "    c=input('DEPARTMENT: ')\n",
    "    d=input('SALARY: ')\n",
    "    query='insert into emp_mgmt values(%s,%s,%s,%s)'\n",
    "    print('-----------------------------')\n",
    "    print('data added succesfully')\n",
    "    print('-----------------------------')\n",
    "    cur.execute(query,(a,b,c,d))\n",
    "    con.commit()\n",
    "    con.close()"
   ]
  },
  {
   "cell_type": "code",
   "execution_count": 34,
   "id": "d469307d",
   "metadata": {},
   "outputs": [],
   "source": [
    "def show_emp():\n",
    "    con=get_conn()\n",
    "    cur=con.cursor()\n",
    "    print('Following are the details of employees from the DATABASE')\n",
    "    query='select* from emp_mgmt'\n",
    "    cur.execute(query)\n",
    "    x=cur.fetchall()\n",
    "    con.commit()\n",
    "    con.close()\n",
    "    return x"
   ]
  },
  {
   "cell_type": "code",
   "execution_count": 5,
   "id": "bfc88089",
   "metadata": {},
   "outputs": [],
   "source": [
    "def sal_emp():\n",
    "    con=get_conn()\n",
    "    cur=con.cursor()\n",
    "    print('This function is used to update the SALARY of an EMPLOYEE')\n",
    "    a=input('Enter the ID of employee: ')\n",
    "    b=input('Enter the NEW SALARY: ')\n",
    "    query='update emp_mgmt set salary=%s where ID=%s'\n",
    "    cur.execute(query,(b,a))\n",
    "    print('-----------------------------')\n",
    "    print('SALARY updated succesfully')\n",
    "    print('-----------------------------')\n",
    "    con.commit()\n",
    "    con.close()"
   ]
  },
  {
   "cell_type": "code",
   "execution_count": 6,
   "id": "1ec45549",
   "metadata": {},
   "outputs": [],
   "source": [
    "def dept_emp():\n",
    "    con=get_conn()\n",
    "    cur=con.cursor()\n",
    "    print('This function is used to update the DEPARTMENT of an EMPLOYEE')\n",
    "    a=input('Enter the ID of employee: ')\n",
    "    b=input('Enter the NEW DEPARTMENT: ')\n",
    "    query='update emp_mgmt set DEPT=%s where ID=%s'\n",
    "    cur.execute(query,(b,a))\n",
    "    print('-----------------------------')\n",
    "    print('DEPARTMENT updated succesfully')\n",
    "    print('-----------------------------')\n",
    "    con.commit()\n",
    "    con.close()"
   ]
  },
  {
   "cell_type": "code",
   "execution_count": 7,
   "id": "4b336f0e",
   "metadata": {},
   "outputs": [],
   "source": [
    "def del_emp():\n",
    "    con=get_conn()\n",
    "    cur=con.cursor()\n",
    "    print('This function is used to DELETE the details of an EMPLOYEE')\n",
    "    a=input('Enter the ID of employee: ')\n",
    "    query='delete from emp_mgmt where ID=%s'\n",
    "    cur.execute(query,a)\n",
    "    print('-----------------------------')\n",
    "    print('EMPLOYEE DETAILS DELETED succesfully')\n",
    "    print('-----------------------------')\n",
    "    con.commit()\n",
    "    con.close()"
   ]
  },
  {
   "cell_type": "markdown",
   "id": "6f20f2c2",
   "metadata": {},
   "source": [
    "INPUT and OUTPUT for ABOVE FUNCTIONS"
   ]
  },
  {
   "cell_type": "code",
   "execution_count": 36,
   "id": "a8ee2f59",
   "metadata": {},
   "outputs": [
    {
     "name": "stdout",
     "output_type": "stream",
     "text": [
      "This function is used to add employees details in the database\n",
      "Enter the details in the following: \n",
      "ID: 4\n",
      "NAME: Bharat Tuppad\n",
      "DEPARTMENT: ML\n",
      "SALARY: 120000\n",
      "-----------------------------\n",
      "data added succesfully\n",
      "-----------------------------\n"
     ]
    }
   ],
   "source": [
    "add_emp()"
   ]
  },
  {
   "cell_type": "code",
   "execution_count": 37,
   "id": "520177f9",
   "metadata": {},
   "outputs": [
    {
     "name": "stdout",
     "output_type": "stream",
     "text": [
      "Following are the details of employees from the DATABASE\n"
     ]
    },
    {
     "data": {
      "text/plain": [
       "((1, 'sachit', 'DBM', 50000),\n",
       " (2, 'nikhil', 'UIUX', 98000),\n",
       " (3, 'vijay', 'ML', 97500),\n",
       " (4, 'Bharat Tuppad', 'ML', 120000))"
      ]
     },
     "execution_count": 37,
     "metadata": {},
     "output_type": "execute_result"
    }
   ],
   "source": [
    "show_emp()"
   ]
  },
  {
   "cell_type": "code",
   "execution_count": 38,
   "id": "8f397789",
   "metadata": {},
   "outputs": [
    {
     "name": "stdout",
     "output_type": "stream",
     "text": [
      "This function is used to update the SALARY of an EMPLOYEE\n",
      "Enter the ID of employee: 4\n",
      "Enter the NEW SALARY: 180000\n",
      "-----------------------------\n",
      "SALARY updated succesfully\n",
      "-----------------------------\n"
     ]
    }
   ],
   "source": [
    "sal_emp()"
   ]
  },
  {
   "cell_type": "code",
   "execution_count": 39,
   "id": "d216a56d",
   "metadata": {},
   "outputs": [
    {
     "name": "stdout",
     "output_type": "stream",
     "text": [
      "This function is used to update the DEPARTMENT of an EMPLOYEE\n",
      "Enter the ID of employee: 3\n",
      "Enter the NEW DEPARTMENT: AI\n",
      "-----------------------------\n",
      "DEPARTMENT updated succesfully\n",
      "-----------------------------\n"
     ]
    }
   ],
   "source": [
    "dept_emp()"
   ]
  },
  {
   "cell_type": "code",
   "execution_count": 40,
   "id": "a4574cec",
   "metadata": {},
   "outputs": [
    {
     "name": "stdout",
     "output_type": "stream",
     "text": [
      "This function is used to DELETE the details of an EMPLOYEE\n",
      "Enter the ID of employee: 1\n",
      "-----------------------------\n",
      "EMPLOYEE DETAILS DELETED succesfully\n",
      "-----------------------------\n"
     ]
    }
   ],
   "source": [
    "del_emp()"
   ]
  },
  {
   "cell_type": "code",
   "execution_count": 41,
   "id": "a633f1f7",
   "metadata": {},
   "outputs": [
    {
     "name": "stdout",
     "output_type": "stream",
     "text": [
      "Following are the details of employees from the DATABASE\n"
     ]
    },
    {
     "data": {
      "text/plain": [
       "((2, 'nikhil', 'UIUX', 98000),\n",
       " (3, 'vijay', 'AI', 97500),\n",
       " (4, 'Bharat Tuppad', 'ML', 180000))"
      ]
     },
     "execution_count": 41,
     "metadata": {},
     "output_type": "execute_result"
    }
   ],
   "source": [
    "show_emp()"
   ]
  }
 ],
 "metadata": {
  "kernelspec": {
   "display_name": "Python 3 (ipykernel)",
   "language": "python",
   "name": "python3"
  },
  "language_info": {
   "codemirror_mode": {
    "name": "ipython",
    "version": 3
   },
   "file_extension": ".py",
   "mimetype": "text/x-python",
   "name": "python",
   "nbconvert_exporter": "python",
   "pygments_lexer": "ipython3",
   "version": "3.10.4"
  }
 },
 "nbformat": 4,
 "nbformat_minor": 5
}
